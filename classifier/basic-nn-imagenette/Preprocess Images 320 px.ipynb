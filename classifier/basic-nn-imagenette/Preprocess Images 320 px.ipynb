{
 "cells": [
  {
   "cell_type": "markdown",
   "metadata": {},
   "source": [
    "# Images Preprocessing\n",
    "\n",
    "- Author: Minh Nguyen\n",
    "- 4/25/2021\n",
    "- Pytorch Classifier - train and test on Imagenette: https://github.com/mnguyen0226/imagenette\n",
    "- Note on Pytorch Installation: https://pytorch.org/\n",
    "\n",
    "Note about labels - using 320 px dataset. Train and validate on noisy_label_0 \n",
    "- n01440764: Tench\n",
    "- n02102040: English Springer\n",
    "- n02979186: Cassette Player\n",
    "- n03000684: Chain Saw\n",
    "- n03028079: Church\n",
    "- n03394916: French Horn\n",
    "- n03417042: Garbage Truck\n",
    "- n03425413: Gas Pump\n",
    "- n03445777: Golf Ball\n",
    "- n03888257: Parachute"
   ]
  },
  {
   "cell_type": "code",
   "execution_count": 21,
   "metadata": {},
   "outputs": [],
   "source": [
    "from PIL import Image\n",
    "from PIL import ImageDraw\n",
    "\n",
    "import numpy as np\n",
    "import pandas as pd\n",
    "import matplotlib as plt\n",
    "from IPython.display import display # to display images\n",
    "\n",
    "import os\n",
    "import pickle"
   ]
  },
  {
   "cell_type": "code",
   "execution_count": 27,
   "metadata": {},
   "outputs": [],
   "source": [
    "def stack_image(training_df, testing_df, name_of_image_set):\n",
    "    \"\"\" Function reshape, stack, and pickle image \"\"\"\n",
    "    image_size = [32,32,3] #-> Just need to change this for any image size\n",
    "    \n",
    "    # keep track of iamges so we can stack them at the end\n",
    "    image_list_train = []\n",
    "#     image_list_test = []\n",
    "    \n",
    "    # keep track of processed data classification\n",
    "    data_classification_train = []\n",
    "#     data_classification_test = []\n",
    "    \n",
    "    for index, row in training_df.iterrows():\n",
    "        # Get the file name and label\n",
    "        path = row['path']\n",
    "        path = 'imagenette2-320/'+path\n",
    "        label = row['noisy_labels_0']\n",
    "        \n",
    "        print(f\"TESTING path: {path}\")\n",
    "        \n",
    "        # Read in the image with PIL and resize it\n",
    "        image = Image.open(path)\n",
    "        image = image.resize((image_size[0], image_size[1]))\n",
    "        \n",
    "        # See the image\n",
    "        display(image)\n",
    "        \n",
    "        image_list_train.append(image)\n",
    "        data_classification_train.append(label)\n",
    "        print(f\"TESTING label {label}\")\n",
    "        \n",
    "        if(index > 20): # for testing stack with 10 image first\n",
    "            break\n",
    "#     for index, row in testing_df.iterows():\n",
    "#         # Get the file name and label\n",
    "#         path = row['path']\n",
    "#         path = 'imagenette2-320/'+path\n",
    "#         label = row['noisy_label_0']\n",
    "        \n",
    "#         print(f\"TESTING path: {path}\")\n",
    "        \n",
    "#         # Read in the image with PIL and resize it\n",
    "#         image = Image.open(path)\n",
    "#         image = image.resize((image_size[0], image_size[1]))\n",
    "        \n",
    "#         # See the image\n",
    "#         display(image)\n",
    "        \n",
    "#         image_list_test.append(image)\n",
    "#         data_classification_test.append(label)\n",
    "        \n",
    "#         if(index > 20):\n",
    "#             break\n",
    "            \n",
    "    data_images_train = np.stack(image_list_train)\n",
    "#     data_images_test = np.stack(image_list_test)\n",
    "    \n",
    "    training_images_pickled = 'pickled_images/' + name_of_image_set + '_training_images_size_32.pkl'\n",
    "    training_classifications_pickled = 'pickled_images/' + name_of_image_set + '_training_labels_size_32.pkl'\n",
    "#     testing_images_pickled = 'pickled_images/' + name_of_image_set + '_testing_images_size_32.pkl'\n",
    "#     testing_classifications_pickled = 'pickled_images/' + name_of_image_set + \"_testing_labels_size_32.pkl\"\n",
    "    \n",
    "    with open(training_images_pickled, 'wb') as f: pickle.dump(data_images_train, f)\n",
    "    with open(training_classifications_pickled, 'wb') as f: pickle.dump(data_classification_train, f)\n",
    "#     with open(testing_images_pickled, 'wb') as f: pickle.dump(data_images_test, f)\n",
    "#     with open(testing_classifications_pickled, 'wb') as f: pickle.dump(data_classification_test, f)"
   ]
  },
  {
   "cell_type": "code",
   "execution_count": 28,
   "metadata": {},
   "outputs": [
    {
     "name": "stdout",
     "output_type": "stream",
     "text": [
      "TESTING path: imagenette2-320/train/n02979186/n02979186_9036.JPEG\n"
     ]
    },
    {
     "data": {
      "image/png": "[encoded data removed]",
      "text/plain": [
       "<PIL.Image.Image image mode=RGB size=32x32 at 0x19340FE0BC8>"
      ]
     },
     "metadata": {},
     "output_type": "display_data"
    },
    {
     "name": "stdout",
     "output_type": "stream",
     "text": [
      "TESTING label n02979186\n",
      "TESTING path: imagenette2-320/train/n02979186/n02979186_11957.JPEG\n"
     ]
    },
    {
     "data": {
      "image/png": "[encoded data removed]",
      "text/plain": [
       "<PIL.Image.Image image mode=RGB size=32x32 at 0x19341274808>"
      ]
     },
     "metadata": {},
     "output_type": "display_data"
    },
    {
     "name": "stdout",
     "output_type": "stream",
     "text": [
      "TESTING label n02979186\n",
      "TESTING path: imagenette2-320/train/n02979186/n02979186_9715.JPEG\n"
     ]
    },
    {
     "data": {
      "image/png": "[encoded data removed]",
      "text/plain": [
       "<PIL.Image.Image image mode=RGB size=32x32 at 0x19342629588>"
      ]
     },
     "metadata": {},
     "output_type": "display_data"
    },
    {
     "name": "stdout",
     "output_type": "stream",
     "text": [
      "TESTING label n02979186\n",
      "TESTING path: imagenette2-320/train/n02979186/n02979186_21736.JPEG\n"
     ]
    },
    {
     "data": {
      "image/png": "[encoded data removed]",
      "text/plain": [
       "<PIL.Image.Image image mode=RGB size=32x32 at 0x1934262DCC8>"
      ]
     },
     "metadata": {},
     "output_type": "display_data"
    },
    {
     "name": "stdout",
     "output_type": "stream",
     "text": [
      "TESTING label n02979186\n",
      "TESTING path: imagenette2-320/train/n02979186/ILSVRC2012_val_00046953.JPEG\n"
     ]
    },
    {
     "data": {
      "image/png": "[encoded data removed]",
      "text/plain": [
       "<PIL.Image.Image image mode=RGB size=32x32 at 0x1934112AB48>"
      ]
     },
     "metadata": {},
     "output_type": "display_data"
    },
    {
     "name": "stdout",
     "output_type": "stream",
     "text": [
      "TESTING label n02979186\n",
      "TESTING path: imagenette2-320/train/n02979186/n02979186_10568.JPEG\n"
     ]
    },
    {
     "data": {
      "image/png": "[encoded data removed]",
      "text/plain": [
       "<PIL.Image.Image image mode=RGB size=32x32 at 0x1934112AA48>"
      ]
     },
     "metadata": {},
     "output_type": "display_data"
    },
    {
     "name": "stdout",
     "output_type": "stream",
     "text": [
      "TESTING label n02979186\n",
      "TESTING path: imagenette2-320/train/n02979186/n02979186_2745.JPEG\n"
     ]
    },
    {
     "data": {
      "image/png": "[encoded data removed]",
      "text/plain": [
       "<PIL.Image.Image image mode=RGB size=32x32 at 0x1934238B108>"
      ]
     },
     "metadata": {},
     "output_type": "display_data"
    },
    {
     "name": "stdout",
     "output_type": "stream",
     "text": [
      "TESTING label n02979186\n",
      "TESTING path: imagenette2-320/train/n02979186/n02979186_3529.JPEG\n"
     ]
    },
    {
     "data": {
      "image/png": "[encoded data removed]",
      "text/plain": [
       "<PIL.Image.Image image mode=RGB size=32x32 at 0x1934112AC88>"
      ]
     },
     "metadata": {},
     "output_type": "display_data"
    },
    {
     "name": "stdout",
     "output_type": "stream",
     "text": [
      "TESTING label n02979186\n",
      "TESTING path: imagenette2-320/train/n02979186/n02979186_10756.JPEG\n"
     ]
    },
    {
     "data": {
      "image/png": "[encoded data removed]",
      "text/plain": [
       "<PIL.Image.Image image mode=RGB size=32x32 at 0x1934238B248>"
      ]
     },
     "metadata": {},
     "output_type": "display_data"
    },
    {
     "name": "stdout",
     "output_type": "stream",
     "text": [
      "TESTING label n02979186\n",
      "TESTING path: imagenette2-320/train/n02979186/n02979186_7058.JPEG\n"
     ]
    },
    {
     "data": {
      "image/png": "[encoded data removed]",
      "text/plain": [
       "<PIL.Image.Image image mode=RGB size=32x32 at 0x1934262DB88>"
      ]
     },
     "metadata": {},
     "output_type": "display_data"
    },
    {
     "name": "stdout",
     "output_type": "stream",
     "text": [
      "TESTING label n02979186\n",
      "TESTING path: imagenette2-320/train/n02979186/n02979186_12419.JPEG\n"
     ]
    },
    {
     "data": {
      "image/png": "[encoded data removed]",
      "text/plain": [
       "<PIL.Image.Image image mode=RGB size=32x32 at 0x1934112A808>"
      ]
     },
     "metadata": {},
     "output_type": "display_data"
    },
    {
     "name": "stdout",
     "output_type": "stream",
     "text": [
      "TESTING label n02979186\n",
      "TESTING path: imagenette2-320/train/n02979186/n02979186_27479.JPEG\n"
     ]
    },
    {
     "data": {
      "image/png": "[encoded data removed]",
      "text/plain": [
       "<PIL.Image.Image image mode=RGB size=32x32 at 0x1934238B6C8>"
      ]
     },
     "metadata": {},
     "output_type": "display_data"
    },
    {
     "name": "stdout",
     "output_type": "stream",
     "text": [
      "TESTING label n02979186\n",
      "TESTING path: imagenette2-320/train/n02979186/n02979186_2733.JPEG\n"
     ]
    },
    {
     "data": {
      "image/png": "[encoded data removed]",
      "text/plain": [
       "<PIL.Image.Image image mode=RGB size=32x32 at 0x1934238BE48>"
      ]
     },
     "metadata": {},
     "output_type": "display_data"
    },
    {
     "name": "stdout",
     "output_type": "stream",
     "text": [
      "TESTING label n02979186\n",
      "TESTING path: imagenette2-320/train/n02979186/n02979186_23069.JPEG\n"
     ]
    },
    {
     "data": {
      "image/png": "[encoded data removed]",
      "text/plain": [
       "<PIL.Image.Image image mode=RGB size=32x32 at 0x1934238B4C8>"
      ]
     },
     "metadata": {},
     "output_type": "display_data"
    },
    {
     "name": "stdout",
     "output_type": "stream",
     "text": [
      "TESTING label n02979186\n",
      "TESTING path: imagenette2-320/train/n02979186/n02979186_2467.JPEG\n"
     ]
    },
    {
     "data": {
      "image/png": "[encoded data removed]",
      "text/plain": [
       "<PIL.Image.Image image mode=RGB size=32x32 at 0x1934238B048>"
      ]
     },
     "metadata": {},
     "output_type": "display_data"
    },
    {
     "name": "stdout",
     "output_type": "stream",
     "text": [
      "TESTING label n02979186\n",
      "TESTING path: imagenette2-320/train/n02979186/n02979186_3293.JPEG\n"
     ]
    },
    {
     "data": {
      "image/png": "[encoded data removed]",
      "text/plain": [
       "<PIL.Image.Image image mode=RGB size=32x32 at 0x1934112ACC8>"
      ]
     },
     "metadata": {},
     "output_type": "display_data"
    },
    {
     "name": "stdout",
     "output_type": "stream",
     "text": [
      "TESTING label n02979186\n",
      "TESTING path: imagenette2-320/train/n02979186/n02979186_22638.JPEG\n"
     ]
    },
    {
     "data": {
      "image/png": "[encoded data removed]",
      "text/plain": [
       "<PIL.Image.Image image mode=RGB size=32x32 at 0x1934238B648>"
      ]
     },
     "metadata": {},
     "output_type": "display_data"
    },
    {
     "name": "stdout",
     "output_type": "stream",
     "text": [
      "TESTING label n02979186\n",
      "TESTING path: imagenette2-320/train/n02979186/n02979186_21779.JPEG\n"
     ]
    },
    {
     "data": {
      "image/png": "[encoded data removed]",
      "text/plain": [
       "<PIL.Image.Image image mode=RGB size=32x32 at 0x1934238B888>"
      ]
     },
     "metadata": {},
     "output_type": "display_data"
    },
    {
     "name": "stdout",
     "output_type": "stream",
     "text": [
      "TESTING label n02979186\n",
      "TESTING path: imagenette2-320/train/n02979186/n02979186_8017.JPEG\n"
     ]
    },
    {
     "data": {
      "image/png": "[encoded data removed]",
      "text/plain": [
       "<PIL.Image.Image image mode=RGB size=32x32 at 0x19340FD1C48>"
      ]
     },
     "metadata": {},
     "output_type": "display_data"
    },
    {
     "name": "stdout",
     "output_type": "stream",
     "text": [
      "TESTING label n02979186\n",
      "TESTING path: imagenette2-320/train/n02979186/n02979186_10095.JPEG\n"
     ]
    },
    {
     "data": {
      "image/png": "[encoded data removed]",
      "text/plain": [
       "<PIL.Image.Image image mode=RGB size=32x32 at 0x19340B4E648>"
      ]
     },
     "metadata": {},
     "output_type": "display_data"
    },
    {
     "name": "stdout",
     "output_type": "stream",
     "text": [
      "TESTING label n02979186\n",
      "TESTING path: imagenette2-320/train/n02979186/n02979186_6725.JPEG\n"
     ]
    },
    {
     "data": {
      "image/png": "[encoded data removed]",
      "text/plain": [
       "<PIL.Image.Image image mode=RGB size=32x32 at 0x1934238BFC8>"
      ]
     },
     "metadata": {},
     "output_type": "display_data"
    },
    {
     "name": "stdout",
     "output_type": "stream",
     "text": [
      "TESTING label n02979186\n",
      "TESTING path: imagenette2-320/train/n02979186/n02979186_22439.JPEG\n"
     ]
    },
    {
     "data": {
      "image/png": "[encoded data removed]",
      "text/plain": [
       "<PIL.Image.Image image mode=RGB size=32x32 at 0x1934238BC08>"
      ]
     },
     "metadata": {},
     "output_type": "display_data"
    },
    {
     "name": "stdout",
     "output_type": "stream",
     "text": [
      "TESTING label n02979186\n"
     ]
    }
   ],
   "source": [
    "#if __name__ ==\"__main__\":\n",
    "\n",
    "name_of_image_set = 'noisy_imagenette'\n",
    "training_df = pd.read_csv('imagenette2-320/'+name_of_image_set+'.csv')\n",
    "testing_df = ''\n",
    "stack_image(training_df, testing_df, name_of_image_set)"
   ]
  },
  {
   "cell_type": "code",
   "execution_count": null,
   "metadata": {},
   "outputs": [],
   "source": []
  },
  {
   "cell_type": "code",
   "execution_count": null,
   "metadata": {},
   "outputs": [],
   "source": []
  }
 ],
 "metadata": {
  "kernelspec": {
   "display_name": "Python 3",
   "language": "python",
   "name": "python3"
  },
  "language_info": {
   "codemirror_mode": {
    "name": "ipython",
    "version": 3
   },
   "file_extension": ".py",
   "mimetype": "text/x-python",
   "name": "python",
   "nbconvert_exporter": "python",
   "pygments_lexer": "ipython3",
   "version": "3.7.6"
  }
 },
 "nbformat": 4,
 "nbformat_minor": 4
}
